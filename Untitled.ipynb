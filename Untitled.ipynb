{
 "cells": [
  {
   "cell_type": "code",
   "execution_count": 2,
   "id": "2b123704",
   "metadata": {},
   "outputs": [
    {
     "name": "stdout",
     "output_type": "stream",
     "text": [
      "Hello Jupyter\n"
     ]
    }
   ],
   "source": [
    "print(\"Hello Jupyter\")"
   ]
  },
  {
   "cell_type": "markdown",
   "id": "3ba29eac",
   "metadata": {},
   "source": [
    "### This is markdown cells to give some comments ###\n",
    "\n",
    "**I need to make it well formated**\n",
    "\n",
    "*look at the format above*\n",
    "\n",
    "* Three hashes before and after makes the font size\n",
    "*Three stars before and after makes it bold and italik.\n",
    "* Two starts before and after makes is bold.\n",
    "* one star before and after makes it italik.\n",
    "* one star and space  bullets for structured."
   ]
  },
  {
   "cell_type": "code",
   "execution_count": 9,
   "id": "38192ced",
   "metadata": {},
   "outputs": [
    {
     "name": "stdout",
     "output_type": "stream",
     "text": [
      "Ahmed 25\n"
     ]
    }
   ],
   "source": [
    "age=25\n",
    "name='Ahmed'\n",
    "print(name,age)"
   ]
  },
  {
   "cell_type": "code",
   "execution_count": 10,
   "id": "557401d2",
   "metadata": {},
   "outputs": [
    {
     "data": {
      "text/plain": [
       "array([1, 2, 3, 4, 5])"
      ]
     },
     "execution_count": 10,
     "metadata": {},
     "output_type": "execute_result"
    }
   ],
   "source": [
    "# Import NumPy\n",
    "import numpy as np\n",
    "\n",
    "# Create a simple NumPy array\n",
    "simple_array = np.array([1, 2, 3, 4, 5])\n",
    "\n",
    "# Print the array\n",
    "simple_array\n"
   ]
  },
  {
   "cell_type": "code",
   "execution_count": null,
   "id": "59cdb31b",
   "metadata": {},
   "outputs": [],
   "source": []
  }
 ],
 "metadata": {
  "kernelspec": {
   "display_name": "Python 3 (ipykernel)",
   "language": "python",
   "name": "python3"
  },
  "language_info": {
   "codemirror_mode": {
    "name": "ipython",
    "version": 3
   },
   "file_extension": ".py",
   "mimetype": "text/x-python",
   "name": "python",
   "nbconvert_exporter": "python",
   "pygments_lexer": "ipython3",
   "version": "3.11.5"
  }
 },
 "nbformat": 4,
 "nbformat_minor": 5
}
